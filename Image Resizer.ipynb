{
 "cells": [
  {
   "cell_type": "code",
   "execution_count": 1,
   "metadata": {},
   "outputs": [],
   "source": [
    "from os import listdir\n",
    "from os.path import isfile, join\n",
    "\n",
    "def list_files(my_path):\n",
    "    onlyfiles = [f for f in listdir(my_path) if isfile(join(my_path, f))]\n",
    "    \n",
    "    return onlyfiles"
   ]
  },
  {
   "cell_type": "code",
   "execution_count": 2,
   "metadata": {},
   "outputs": [],
   "source": [
    "import numpy as np\n",
    "\n",
    "def del_whitespace(img):\n",
    "    gray = cv2.cvtColor(img, cv2.COLOR_BGR2GRAY)\n",
    "    gray = 255*(gray < 128).astype(np.uint8) # To invert the text to white\n",
    "    coords = cv2.findNonZero(gray) # Find all non-zero points (text)\n",
    "    x, y, w, h = cv2.boundingRect(coords) # Find minimum spanning bounding box\n",
    "    rect = img[y:y+h, x:x+w] # Crop the image - note we do this on the original image\n",
    "    return rect\n",
    "\n",
    "def my_resize(img, ww, hh):\n",
    "#     img = del_whitespace(img)\n",
    "    ht, wd, cc= img.shape\n",
    "    \n",
    "    wp = ww / wd\n",
    "    hp = hh / ht\n",
    "    \n",
    "    p = wp\n",
    "    if hp < wp:\n",
    "        p = hp\n",
    "    ht = int(ht * p)\n",
    "    wd = int(wd * p)\n",
    "    img = cv2.resize(img, (wd, ht))\n",
    "    \n",
    "    color = (255,255,255)\n",
    "    result = np.full((hh,ww,cc), color, dtype=np.uint8)\n",
    "\n",
    "    # compute center offset\n",
    "    xx = (ww - wd) // 2\n",
    "    yy = (hh - ht) // 2\n",
    "\n",
    "    # copy img image into center of result image\n",
    "    result[yy:yy+ht, xx:xx+wd] = img\n",
    "    return result"
   ]
  },
  {
   "cell_type": "code",
   "execution_count": 3,
   "metadata": {},
   "outputs": [],
   "source": [
    "import cv2\n",
    "import shutil\n",
    "\n",
    "def do_resize(source_path, target_path, ww, hh):\n",
    "    images = list_files(source_path)\n",
    "    for image in images:\n",
    "        image_source_path = \"{}/{}\".format(source_path, image)\n",
    "        image_target_path = \"{}/{}\".format(target_path, image)\n",
    "\n",
    "        img = cv2.imread(image_source_path)\n",
    "        if (img is None):            \n",
    "            shutil.copy(image_source_path, image_target_path)\n",
    "        else:\n",
    "            img = my_resize(img, ww, hh)\n",
    "\n",
    "            cv2.imwrite(image_target_path, img)"
   ]
  },
  {
   "cell_type": "code",
   "execution_count": 4,
   "metadata": {},
   "outputs": [],
   "source": [
    "source = \"./source\"\n",
    "target = \"./target\"\n",
    "ww = 600\n",
    "hh = 200\n",
    "do_resize(source, target, ww, hh)"
   ]
  },
  {
   "cell_type": "code",
   "execution_count": null,
   "metadata": {},
   "outputs": [],
   "source": []
  },
  {
   "cell_type": "code",
   "execution_count": null,
   "metadata": {},
   "outputs": [],
   "source": []
  }
 ],
 "metadata": {
  "kernelspec": {
   "display_name": "Python 3",
   "language": "python",
   "name": "python3"
  },
  "language_info": {
   "codemirror_mode": {
    "name": "ipython",
    "version": 3
   },
   "file_extension": ".py",
   "mimetype": "text/x-python",
   "name": "python",
   "nbconvert_exporter": "python",
   "pygments_lexer": "ipython3",
   "version": "3.7.4"
  }
 },
 "nbformat": 4,
 "nbformat_minor": 4
}
